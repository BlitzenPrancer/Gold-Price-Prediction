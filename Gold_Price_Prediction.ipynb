{
  "nbformat": 4,
  "nbformat_minor": 0,
  "metadata": {
    "colab": {
      "name": "Gold-Price-Prediction.ipynb",
      "provenance": [],
      "authorship_tag": "ABX9TyPPgonazVTZ9djyNWsEp/XC",
      "include_colab_link": true
    },
    "kernelspec": {
      "name": "python3",
      "display_name": "Python 3"
    },
    "language_info": {
      "name": "python"
    }
  },
  "cells": [
    {
      "cell_type": "markdown",
      "metadata": {
        "id": "view-in-github",
        "colab_type": "text"
      },
      "source": [
        "<a href=\"https://colab.research.google.com/github/BlitzenPrancer/Gold-Price-Prediction/blob/main/Gold_Price_Prediction.ipynb\" target=\"_parent\"><img src=\"https://colab.research.google.com/assets/colab-badge.svg\" alt=\"Open In Colab\"/></a>"
      ]
    },
    {
      "cell_type": "markdown",
      "metadata": {
        "id": "bb84eaOD1IXt"
      },
      "source": [
        "# Importing the required libraries"
      ]
    },
    {
      "cell_type": "code",
      "metadata": {
        "id": "9KAMzSzl1Mg2"
      },
      "source": [
        "import numpy as np\n",
        "import pandas as pd\n",
        "from sklearn.model_selection import train_test_split\n",
        "from sklearn.ensemble import RandomForestRegressor\n",
        "from sklearn import metrics"
      ],
      "execution_count": 1,
      "outputs": []
    },
    {
      "cell_type": "code",
      "metadata": {
        "colab": {
          "base_uri": "https://localhost:8080/"
        },
        "id": "p1I7Nwou1Q5-",
        "outputId": "de6d656b-6ad6-4a05-d181-81fd0c744435"
      },
      "source": [
        "from google.colab import drive\n",
        "drive.mount('/content/drive')"
      ],
      "execution_count": 2,
      "outputs": [
        {
          "output_type": "stream",
          "name": "stdout",
          "text": [
            "Mounted at /content/drive\n"
          ]
        }
      ]
    },
    {
      "cell_type": "markdown",
      "metadata": {
        "id": "iaNA46SS1p8Q"
      },
      "source": [
        "# Viewing the data"
      ]
    },
    {
      "cell_type": "code",
      "metadata": {
        "id": "jnyp_7sf1cum"
      },
      "source": [
        "gold_data = pd.read_csv('/content/drive/MyDrive/csv files/gold_price_data.csv')"
      ],
      "execution_count": 3,
      "outputs": []
    },
    {
      "cell_type": "code",
      "metadata": {
        "colab": {
          "base_uri": "https://localhost:8080/",
          "height": 358
        },
        "id": "rI36dr_V13fo",
        "outputId": "65b8f0a8-030a-4df7-bf11-e7102c18922d"
      },
      "source": [
        "gold_data.head(10)"
      ],
      "execution_count": 4,
      "outputs": [
        {
          "output_type": "execute_result",
          "data": {
            "text/html": [
              "<div>\n",
              "<style scoped>\n",
              "    .dataframe tbody tr th:only-of-type {\n",
              "        vertical-align: middle;\n",
              "    }\n",
              "\n",
              "    .dataframe tbody tr th {\n",
              "        vertical-align: top;\n",
              "    }\n",
              "\n",
              "    .dataframe thead th {\n",
              "        text-align: right;\n",
              "    }\n",
              "</style>\n",
              "<table border=\"1\" class=\"dataframe\">\n",
              "  <thead>\n",
              "    <tr style=\"text-align: right;\">\n",
              "      <th></th>\n",
              "      <th>Date</th>\n",
              "      <th>SPX</th>\n",
              "      <th>GLD</th>\n",
              "      <th>USO</th>\n",
              "      <th>SLV</th>\n",
              "      <th>EUR/USD</th>\n",
              "    </tr>\n",
              "  </thead>\n",
              "  <tbody>\n",
              "    <tr>\n",
              "      <th>0</th>\n",
              "      <td>1/2/2008</td>\n",
              "      <td>1447.160034</td>\n",
              "      <td>84.860001</td>\n",
              "      <td>78.470001</td>\n",
              "      <td>15.180000</td>\n",
              "      <td>1.471692</td>\n",
              "    </tr>\n",
              "    <tr>\n",
              "      <th>1</th>\n",
              "      <td>1/3/2008</td>\n",
              "      <td>1447.160034</td>\n",
              "      <td>85.570000</td>\n",
              "      <td>78.370003</td>\n",
              "      <td>15.285000</td>\n",
              "      <td>1.474491</td>\n",
              "    </tr>\n",
              "    <tr>\n",
              "      <th>2</th>\n",
              "      <td>1/4/2008</td>\n",
              "      <td>1411.630005</td>\n",
              "      <td>85.129997</td>\n",
              "      <td>77.309998</td>\n",
              "      <td>15.167000</td>\n",
              "      <td>1.475492</td>\n",
              "    </tr>\n",
              "    <tr>\n",
              "      <th>3</th>\n",
              "      <td>1/7/2008</td>\n",
              "      <td>1416.180054</td>\n",
              "      <td>84.769997</td>\n",
              "      <td>75.500000</td>\n",
              "      <td>15.053000</td>\n",
              "      <td>1.468299</td>\n",
              "    </tr>\n",
              "    <tr>\n",
              "      <th>4</th>\n",
              "      <td>1/8/2008</td>\n",
              "      <td>1390.189941</td>\n",
              "      <td>86.779999</td>\n",
              "      <td>76.059998</td>\n",
              "      <td>15.590000</td>\n",
              "      <td>1.557099</td>\n",
              "    </tr>\n",
              "    <tr>\n",
              "      <th>5</th>\n",
              "      <td>1/9/2008</td>\n",
              "      <td>1409.130005</td>\n",
              "      <td>86.550003</td>\n",
              "      <td>75.250000</td>\n",
              "      <td>15.520000</td>\n",
              "      <td>1.466405</td>\n",
              "    </tr>\n",
              "    <tr>\n",
              "      <th>6</th>\n",
              "      <td>1/10/2008</td>\n",
              "      <td>1420.329956</td>\n",
              "      <td>88.250000</td>\n",
              "      <td>74.019997</td>\n",
              "      <td>16.061001</td>\n",
              "      <td>1.480100</td>\n",
              "    </tr>\n",
              "    <tr>\n",
              "      <th>7</th>\n",
              "      <td>1/11/2008</td>\n",
              "      <td>1401.020020</td>\n",
              "      <td>88.580002</td>\n",
              "      <td>73.089996</td>\n",
              "      <td>16.077000</td>\n",
              "      <td>1.479006</td>\n",
              "    </tr>\n",
              "    <tr>\n",
              "      <th>8</th>\n",
              "      <td>1/14/2008</td>\n",
              "      <td>1416.250000</td>\n",
              "      <td>89.540001</td>\n",
              "      <td>74.250000</td>\n",
              "      <td>16.280001</td>\n",
              "      <td>1.486900</td>\n",
              "    </tr>\n",
              "    <tr>\n",
              "      <th>9</th>\n",
              "      <td>1/15/2008</td>\n",
              "      <td>1380.949951</td>\n",
              "      <td>87.989998</td>\n",
              "      <td>72.779999</td>\n",
              "      <td>15.834000</td>\n",
              "      <td>1.480210</td>\n",
              "    </tr>\n",
              "  </tbody>\n",
              "</table>\n",
              "</div>"
            ],
            "text/plain": [
              "        Date          SPX        GLD        USO        SLV   EUR/USD\n",
              "0   1/2/2008  1447.160034  84.860001  78.470001  15.180000  1.471692\n",
              "1   1/3/2008  1447.160034  85.570000  78.370003  15.285000  1.474491\n",
              "2   1/4/2008  1411.630005  85.129997  77.309998  15.167000  1.475492\n",
              "3   1/7/2008  1416.180054  84.769997  75.500000  15.053000  1.468299\n",
              "4   1/8/2008  1390.189941  86.779999  76.059998  15.590000  1.557099\n",
              "5   1/9/2008  1409.130005  86.550003  75.250000  15.520000  1.466405\n",
              "6  1/10/2008  1420.329956  88.250000  74.019997  16.061001  1.480100\n",
              "7  1/11/2008  1401.020020  88.580002  73.089996  16.077000  1.479006\n",
              "8  1/14/2008  1416.250000  89.540001  74.250000  16.280001  1.486900\n",
              "9  1/15/2008  1380.949951  87.989998  72.779999  15.834000  1.480210"
            ]
          },
          "metadata": {},
          "execution_count": 4
        }
      ]
    },
    {
      "cell_type": "code",
      "metadata": {
        "id": "yO69TdqX2ATf"
      },
      "source": [
        "X = gold_data.drop(['Date','GLD'],axis=1)\n",
        "Y = gold_data['GLD']"
      ],
      "execution_count": 5,
      "outputs": []
    },
    {
      "cell_type": "code",
      "metadata": {
        "id": "m0q8VLO12OS5"
      },
      "source": [
        "X_train, X_test, Y_train, Y_test = train_test_split(X, Y, test_size = 0.2, random_state=2)"
      ],
      "execution_count": 6,
      "outputs": []
    }
  ]
}